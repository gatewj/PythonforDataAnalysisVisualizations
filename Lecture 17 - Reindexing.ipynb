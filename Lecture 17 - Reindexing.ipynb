{
 "cells": [
  {
   "cell_type": "code",
   "execution_count": 1,
   "metadata": {
    "collapsed": true
   },
   "outputs": [],
   "source": [
    "import numpy as np\n",
    "import pandas as pd\n",
    "from pandas import Series, DataFrame"
   ]
  },
  {
   "cell_type": "code",
   "execution_count": 2,
   "metadata": {
    "collapsed": true
   },
   "outputs": [],
   "source": [
    "from numpy.random import randn"
   ]
  },
  {
   "cell_type": "code",
   "execution_count": 4,
   "metadata": {
    "collapsed": false
   },
   "outputs": [],
   "source": [
    "ser1 = Series([1,2,3,4], index = ['A','B','C','D'])"
   ]
  },
  {
   "cell_type": "code",
   "execution_count": 5,
   "metadata": {
    "collapsed": false
   },
   "outputs": [
    {
     "data": {
      "text/plain": [
       "A    1\n",
       "B    2\n",
       "C    3\n",
       "D    4\n",
       "dtype: int64"
      ]
     },
     "execution_count": 5,
     "metadata": {},
     "output_type": "execute_result"
    }
   ],
   "source": [
    "ser1"
   ]
  },
  {
   "cell_type": "code",
   "execution_count": 6,
   "metadata": {
    "collapsed": true
   },
   "outputs": [],
   "source": [
    "ser2 = ser1.reindex(['A','B','C','D','E','F'])"
   ]
  },
  {
   "cell_type": "code",
   "execution_count": 7,
   "metadata": {
    "collapsed": false
   },
   "outputs": [
    {
     "data": {
      "text/plain": [
       "A     1\n",
       "B     2\n",
       "C     3\n",
       "D     4\n",
       "E   NaN\n",
       "F   NaN\n",
       "dtype: float64"
      ]
     },
     "execution_count": 7,
     "metadata": {},
     "output_type": "execute_result"
    }
   ],
   "source": [
    "ser2"
   ]
  },
  {
   "cell_type": "code",
   "execution_count": 10,
   "metadata": {
    "collapsed": false
   },
   "outputs": [
    {
     "data": {
      "text/plain": [
       "A     1\n",
       "B     2\n",
       "C     3\n",
       "D     4\n",
       "E   NaN\n",
       "F   NaN\n",
       "G     0\n",
       "dtype: float64"
      ]
     },
     "execution_count": 10,
     "metadata": {},
     "output_type": "execute_result"
    }
   ],
   "source": [
    "ser2.reindex(['A','B','C','D','E','F','G'], fill_value = 0)  # fills in the new index introduced"
   ]
  },
  {
   "cell_type": "code",
   "execution_count": 11,
   "metadata": {
    "collapsed": true
   },
   "outputs": [],
   "source": [
    "ser3 = Series(['USA','Mexico','Canada'], index = [0,5,10])"
   ]
  },
  {
   "cell_type": "code",
   "execution_count": 12,
   "metadata": {
    "collapsed": false
   },
   "outputs": [
    {
     "data": {
      "text/plain": [
       "0        USA\n",
       "5     Mexico\n",
       "10    Canada\n",
       "dtype: object"
      ]
     },
     "execution_count": 12,
     "metadata": {},
     "output_type": "execute_result"
    }
   ],
   "source": [
    "ser3"
   ]
  },
  {
   "cell_type": "code",
   "execution_count": 13,
   "metadata": {
    "collapsed": true
   },
   "outputs": [],
   "source": [
    "ranger = range(15)"
   ]
  },
  {
   "cell_type": "code",
   "execution_count": 14,
   "metadata": {
    "collapsed": false
   },
   "outputs": [
    {
     "data": {
      "text/plain": [
       "[0, 1, 2, 3, 4, 5, 6, 7, 8, 9, 10, 11, 12, 13, 14]"
      ]
     },
     "execution_count": 14,
     "metadata": {},
     "output_type": "execute_result"
    }
   ],
   "source": [
    "ranger"
   ]
  },
  {
   "cell_type": "code",
   "execution_count": 16,
   "metadata": {
    "collapsed": false
   },
   "outputs": [
    {
     "data": {
      "text/plain": [
       "0        USA\n",
       "1        USA\n",
       "2        USA\n",
       "3        USA\n",
       "4        USA\n",
       "5     Mexico\n",
       "6     Mexico\n",
       "7     Mexico\n",
       "8     Mexico\n",
       "9     Mexico\n",
       "10    Canada\n",
       "11    Canada\n",
       "12    Canada\n",
       "13    Canada\n",
       "14    Canada\n",
       "dtype: object"
      ]
     },
     "execution_count": 16,
     "metadata": {},
     "output_type": "execute_result"
    }
   ],
   "source": [
    "#Can use a forward fill for interploating values vetween indices \n",
    "ser3.reindex(ranger, method ='ffill')  #forward fill"
   ]
  },
  {
   "cell_type": "code",
   "execution_count": 17,
   "metadata": {
    "collapsed": false
   },
   "outputs": [
    {
     "data": {
      "text/html": [
       "<div style=\"max-height:1000px;max-width:1500px;overflow:auto;\">\n",
       "<table border=\"1\" class=\"dataframe\">\n",
       "  <thead>\n",
       "    <tr style=\"text-align: right;\">\n",
       "      <th></th>\n",
       "      <th>col1</th>\n",
       "      <th>col2</th>\n",
       "      <th>col3</th>\n",
       "      <th>col4</th>\n",
       "      <th>col5</th>\n",
       "    </tr>\n",
       "  </thead>\n",
       "  <tbody>\n",
       "    <tr>\n",
       "      <th>A</th>\n",
       "      <td>-0.595103</td>\n",
       "      <td>-2.115149</td>\n",
       "      <td>-0.218750</td>\n",
       "      <td> 0.603322</td>\n",
       "      <td>-2.340414</td>\n",
       "    </tr>\n",
       "    <tr>\n",
       "      <th>B</th>\n",
       "      <td> 0.150284</td>\n",
       "      <td>-0.201044</td>\n",
       "      <td>-0.918358</td>\n",
       "      <td> 0.480043</td>\n",
       "      <td>-0.407691</td>\n",
       "    </tr>\n",
       "    <tr>\n",
       "      <th>D</th>\n",
       "      <td> 0.775731</td>\n",
       "      <td>-0.392943</td>\n",
       "      <td> 0.522396</td>\n",
       "      <td> 0.361305</td>\n",
       "      <td> 2.415421</td>\n",
       "    </tr>\n",
       "    <tr>\n",
       "      <th>E</th>\n",
       "      <td> 0.150669</td>\n",
       "      <td> 1.213013</td>\n",
       "      <td> 0.291849</td>\n",
       "      <td> 0.282356</td>\n",
       "      <td>-0.079276</td>\n",
       "    </tr>\n",
       "    <tr>\n",
       "      <th>F</th>\n",
       "      <td> 0.893865</td>\n",
       "      <td> 0.123956</td>\n",
       "      <td>-0.021804</td>\n",
       "      <td>-2.042330</td>\n",
       "      <td>-1.364109</td>\n",
       "    </tr>\n",
       "  </tbody>\n",
       "</table>\n",
       "</div>"
      ],
      "text/plain": [
       "       col1      col2      col3      col4      col5\n",
       "A -0.595103 -2.115149 -0.218750  0.603322 -2.340414\n",
       "B  0.150284 -0.201044 -0.918358  0.480043 -0.407691\n",
       "D  0.775731 -0.392943  0.522396  0.361305  2.415421\n",
       "E  0.150669  1.213013  0.291849  0.282356 -0.079276\n",
       "F  0.893865  0.123956 -0.021804 -2.042330 -1.364109"
      ]
     },
     "execution_count": 17,
     "metadata": {},
     "output_type": "execute_result"
    }
   ],
   "source": [
    "# reshape changes to a 5,5 matrix\n",
    "dframe = DataFrame(randn(25).reshape((5,5)),index = ['A','B','D','E','F'],\n",
    "                   columns = ['col1','col2','col3','col4','col5'])\n",
    "dframe                                                                                     "
   ]
  },
  {
   "cell_type": "code",
   "execution_count": 20,
   "metadata": {
    "collapsed": false
   },
   "outputs": [],
   "source": [
    "dframe2 = dframe.reindex(['A','B','C','D','E','F'])"
   ]
  },
  {
   "cell_type": "code",
   "execution_count": 21,
   "metadata": {
    "collapsed": false
   },
   "outputs": [
    {
     "data": {
      "text/html": [
       "<div style=\"max-height:1000px;max-width:1500px;overflow:auto;\">\n",
       "<table border=\"1\" class=\"dataframe\">\n",
       "  <thead>\n",
       "    <tr style=\"text-align: right;\">\n",
       "      <th></th>\n",
       "      <th>col1</th>\n",
       "      <th>col2</th>\n",
       "      <th>col3</th>\n",
       "      <th>col4</th>\n",
       "      <th>col5</th>\n",
       "    </tr>\n",
       "  </thead>\n",
       "  <tbody>\n",
       "    <tr>\n",
       "      <th>A</th>\n",
       "      <td>-0.595103</td>\n",
       "      <td>-2.115149</td>\n",
       "      <td>-0.218750</td>\n",
       "      <td> 0.603322</td>\n",
       "      <td>-2.340414</td>\n",
       "    </tr>\n",
       "    <tr>\n",
       "      <th>B</th>\n",
       "      <td> 0.150284</td>\n",
       "      <td>-0.201044</td>\n",
       "      <td>-0.918358</td>\n",
       "      <td> 0.480043</td>\n",
       "      <td>-0.407691</td>\n",
       "    </tr>\n",
       "    <tr>\n",
       "      <th>C</th>\n",
       "      <td>      NaN</td>\n",
       "      <td>      NaN</td>\n",
       "      <td>      NaN</td>\n",
       "      <td>      NaN</td>\n",
       "      <td>      NaN</td>\n",
       "    </tr>\n",
       "    <tr>\n",
       "      <th>D</th>\n",
       "      <td> 0.775731</td>\n",
       "      <td>-0.392943</td>\n",
       "      <td> 0.522396</td>\n",
       "      <td> 0.361305</td>\n",
       "      <td> 2.415421</td>\n",
       "    </tr>\n",
       "    <tr>\n",
       "      <th>E</th>\n",
       "      <td> 0.150669</td>\n",
       "      <td> 1.213013</td>\n",
       "      <td> 0.291849</td>\n",
       "      <td> 0.282356</td>\n",
       "      <td>-0.079276</td>\n",
       "    </tr>\n",
       "    <tr>\n",
       "      <th>F</th>\n",
       "      <td> 0.893865</td>\n",
       "      <td> 0.123956</td>\n",
       "      <td>-0.021804</td>\n",
       "      <td>-2.042330</td>\n",
       "      <td>-1.364109</td>\n",
       "    </tr>\n",
       "  </tbody>\n",
       "</table>\n",
       "</div>"
      ],
      "text/plain": [
       "       col1      col2      col3      col4      col5\n",
       "A -0.595103 -2.115149 -0.218750  0.603322 -2.340414\n",
       "B  0.150284 -0.201044 -0.918358  0.480043 -0.407691\n",
       "C       NaN       NaN       NaN       NaN       NaN\n",
       "D  0.775731 -0.392943  0.522396  0.361305  2.415421\n",
       "E  0.150669  1.213013  0.291849  0.282356 -0.079276\n",
       "F  0.893865  0.123956 -0.021804 -2.042330 -1.364109"
      ]
     },
     "execution_count": 21,
     "metadata": {},
     "output_type": "execute_result"
    }
   ],
   "source": [
    "dframe2"
   ]
  },
  {
   "cell_type": "code",
   "execution_count": 22,
   "metadata": {
    "collapsed": true
   },
   "outputs": [],
   "source": [
    "new_columns = ['col1','col2','col3','col4','col5','col6']"
   ]
  },
  {
   "cell_type": "code",
   "execution_count": 23,
   "metadata": {
    "collapsed": false
   },
   "outputs": [
    {
     "data": {
      "text/html": [
       "<div style=\"max-height:1000px;max-width:1500px;overflow:auto;\">\n",
       "<table border=\"1\" class=\"dataframe\">\n",
       "  <thead>\n",
       "    <tr style=\"text-align: right;\">\n",
       "      <th></th>\n",
       "      <th>col1</th>\n",
       "      <th>col2</th>\n",
       "      <th>col3</th>\n",
       "      <th>col4</th>\n",
       "      <th>col5</th>\n",
       "      <th>col6</th>\n",
       "    </tr>\n",
       "  </thead>\n",
       "  <tbody>\n",
       "    <tr>\n",
       "      <th>A</th>\n",
       "      <td>-0.595103</td>\n",
       "      <td>-2.115149</td>\n",
       "      <td>-0.218750</td>\n",
       "      <td> 0.603322</td>\n",
       "      <td>-2.340414</td>\n",
       "      <td>NaN</td>\n",
       "    </tr>\n",
       "    <tr>\n",
       "      <th>B</th>\n",
       "      <td> 0.150284</td>\n",
       "      <td>-0.201044</td>\n",
       "      <td>-0.918358</td>\n",
       "      <td> 0.480043</td>\n",
       "      <td>-0.407691</td>\n",
       "      <td>NaN</td>\n",
       "    </tr>\n",
       "    <tr>\n",
       "      <th>C</th>\n",
       "      <td>      NaN</td>\n",
       "      <td>      NaN</td>\n",
       "      <td>      NaN</td>\n",
       "      <td>      NaN</td>\n",
       "      <td>      NaN</td>\n",
       "      <td>NaN</td>\n",
       "    </tr>\n",
       "    <tr>\n",
       "      <th>D</th>\n",
       "      <td> 0.775731</td>\n",
       "      <td>-0.392943</td>\n",
       "      <td> 0.522396</td>\n",
       "      <td> 0.361305</td>\n",
       "      <td> 2.415421</td>\n",
       "      <td>NaN</td>\n",
       "    </tr>\n",
       "    <tr>\n",
       "      <th>E</th>\n",
       "      <td> 0.150669</td>\n",
       "      <td> 1.213013</td>\n",
       "      <td> 0.291849</td>\n",
       "      <td> 0.282356</td>\n",
       "      <td>-0.079276</td>\n",
       "      <td>NaN</td>\n",
       "    </tr>\n",
       "    <tr>\n",
       "      <th>F</th>\n",
       "      <td> 0.893865</td>\n",
       "      <td> 0.123956</td>\n",
       "      <td>-0.021804</td>\n",
       "      <td>-2.042330</td>\n",
       "      <td>-1.364109</td>\n",
       "      <td>NaN</td>\n",
       "    </tr>\n",
       "  </tbody>\n",
       "</table>\n",
       "</div>"
      ],
      "text/plain": [
       "       col1      col2      col3      col4      col5  col6\n",
       "A -0.595103 -2.115149 -0.218750  0.603322 -2.340414   NaN\n",
       "B  0.150284 -0.201044 -0.918358  0.480043 -0.407691   NaN\n",
       "C       NaN       NaN       NaN       NaN       NaN   NaN\n",
       "D  0.775731 -0.392943  0.522396  0.361305  2.415421   NaN\n",
       "E  0.150669  1.213013  0.291849  0.282356 -0.079276   NaN\n",
       "F  0.893865  0.123956 -0.021804 -2.042330 -1.364109   NaN"
      ]
     },
     "execution_count": 23,
     "metadata": {},
     "output_type": "execute_result"
    }
   ],
   "source": [
    "dframe2.reindex(columns = new_columns)"
   ]
  },
  {
   "cell_type": "code",
   "execution_count": 24,
   "metadata": {
    "collapsed": false
   },
   "outputs": [
    {
     "data": {
      "text/html": [
       "<div style=\"max-height:1000px;max-width:1500px;overflow:auto;\">\n",
       "<table border=\"1\" class=\"dataframe\">\n",
       "  <thead>\n",
       "    <tr style=\"text-align: right;\">\n",
       "      <th></th>\n",
       "      <th>col1</th>\n",
       "      <th>col2</th>\n",
       "      <th>col3</th>\n",
       "      <th>col4</th>\n",
       "      <th>col5</th>\n",
       "    </tr>\n",
       "  </thead>\n",
       "  <tbody>\n",
       "    <tr>\n",
       "      <th>A</th>\n",
       "      <td>-0.595103</td>\n",
       "      <td>-2.115149</td>\n",
       "      <td>-0.218750</td>\n",
       "      <td> 0.603322</td>\n",
       "      <td>-2.340414</td>\n",
       "    </tr>\n",
       "    <tr>\n",
       "      <th>B</th>\n",
       "      <td> 0.150284</td>\n",
       "      <td>-0.201044</td>\n",
       "      <td>-0.918358</td>\n",
       "      <td> 0.480043</td>\n",
       "      <td>-0.407691</td>\n",
       "    </tr>\n",
       "    <tr>\n",
       "      <th>D</th>\n",
       "      <td> 0.775731</td>\n",
       "      <td>-0.392943</td>\n",
       "      <td> 0.522396</td>\n",
       "      <td> 0.361305</td>\n",
       "      <td> 2.415421</td>\n",
       "    </tr>\n",
       "    <tr>\n",
       "      <th>E</th>\n",
       "      <td> 0.150669</td>\n",
       "      <td> 1.213013</td>\n",
       "      <td> 0.291849</td>\n",
       "      <td> 0.282356</td>\n",
       "      <td>-0.079276</td>\n",
       "    </tr>\n",
       "    <tr>\n",
       "      <th>F</th>\n",
       "      <td> 0.893865</td>\n",
       "      <td> 0.123956</td>\n",
       "      <td>-0.021804</td>\n",
       "      <td>-2.042330</td>\n",
       "      <td>-1.364109</td>\n",
       "    </tr>\n",
       "  </tbody>\n",
       "</table>\n",
       "</div>"
      ],
      "text/plain": [
       "       col1      col2      col3      col4      col5\n",
       "A -0.595103 -2.115149 -0.218750  0.603322 -2.340414\n",
       "B  0.150284 -0.201044 -0.918358  0.480043 -0.407691\n",
       "D  0.775731 -0.392943  0.522396  0.361305  2.415421\n",
       "E  0.150669  1.213013  0.291849  0.282356 -0.079276\n",
       "F  0.893865  0.123956 -0.021804 -2.042330 -1.364109"
      ]
     },
     "execution_count": 24,
     "metadata": {},
     "output_type": "execute_result"
    }
   ],
   "source": [
    "dframe"
   ]
  },
  {
   "cell_type": "code",
   "execution_count": 25,
   "metadata": {
    "collapsed": false
   },
   "outputs": [
    {
     "data": {
      "text/html": [
       "<div style=\"max-height:1000px;max-width:1500px;overflow:auto;\">\n",
       "<table border=\"1\" class=\"dataframe\">\n",
       "  <thead>\n",
       "    <tr style=\"text-align: right;\">\n",
       "      <th></th>\n",
       "      <th>col1</th>\n",
       "      <th>col2</th>\n",
       "      <th>col3</th>\n",
       "      <th>col4</th>\n",
       "      <th>col5</th>\n",
       "      <th>col6</th>\n",
       "    </tr>\n",
       "  </thead>\n",
       "  <tbody>\n",
       "    <tr>\n",
       "      <th>A</th>\n",
       "      <td>-0.595103</td>\n",
       "      <td>-2.115149</td>\n",
       "      <td>-0.218750</td>\n",
       "      <td> 0.603322</td>\n",
       "      <td>-2.340414</td>\n",
       "      <td>NaN</td>\n",
       "    </tr>\n",
       "    <tr>\n",
       "      <th>B</th>\n",
       "      <td> 0.150284</td>\n",
       "      <td>-0.201044</td>\n",
       "      <td>-0.918358</td>\n",
       "      <td> 0.480043</td>\n",
       "      <td>-0.407691</td>\n",
       "      <td>NaN</td>\n",
       "    </tr>\n",
       "    <tr>\n",
       "      <th>C</th>\n",
       "      <td>      NaN</td>\n",
       "      <td>      NaN</td>\n",
       "      <td>      NaN</td>\n",
       "      <td>      NaN</td>\n",
       "      <td>      NaN</td>\n",
       "      <td>NaN</td>\n",
       "    </tr>\n",
       "    <tr>\n",
       "      <th>D</th>\n",
       "      <td> 0.775731</td>\n",
       "      <td>-0.392943</td>\n",
       "      <td> 0.522396</td>\n",
       "      <td> 0.361305</td>\n",
       "      <td> 2.415421</td>\n",
       "      <td>NaN</td>\n",
       "    </tr>\n",
       "    <tr>\n",
       "      <th>E</th>\n",
       "      <td> 0.150669</td>\n",
       "      <td> 1.213013</td>\n",
       "      <td> 0.291849</td>\n",
       "      <td> 0.282356</td>\n",
       "      <td>-0.079276</td>\n",
       "      <td>NaN</td>\n",
       "    </tr>\n",
       "    <tr>\n",
       "      <th>F</th>\n",
       "      <td> 0.893865</td>\n",
       "      <td> 0.123956</td>\n",
       "      <td>-0.021804</td>\n",
       "      <td>-2.042330</td>\n",
       "      <td>-1.364109</td>\n",
       "      <td>NaN</td>\n",
       "    </tr>\n",
       "  </tbody>\n",
       "</table>\n",
       "</div>"
      ],
      "text/plain": [
       "       col1      col2      col3      col4      col5  col6\n",
       "A -0.595103 -2.115149 -0.218750  0.603322 -2.340414   NaN\n",
       "B  0.150284 -0.201044 -0.918358  0.480043 -0.407691   NaN\n",
       "C       NaN       NaN       NaN       NaN       NaN   NaN\n",
       "D  0.775731 -0.392943  0.522396  0.361305  2.415421   NaN\n",
       "E  0.150669  1.213013  0.291849  0.282356 -0.079276   NaN\n",
       "F  0.893865  0.123956 -0.021804 -2.042330 -1.364109   NaN"
      ]
     },
     "execution_count": 25,
     "metadata": {},
     "output_type": "execute_result"
    }
   ],
   "source": [
    "#Reindex quickly using the label-indexing with ix (we'll see this more in the future)\n",
    "\n",
    "\n",
    "dframe.ix[['A','B','C','D','E','F'], new_columns]  #Reindex using ix"
   ]
  },
  {
   "cell_type": "code",
   "execution_count": null,
   "metadata": {
    "collapsed": true
   },
   "outputs": [],
   "source": []
  }
 ],
 "metadata": {
  "kernelspec": {
   "display_name": "Python 2",
   "language": "python",
   "name": "python2"
  },
  "language_info": {
   "codemirror_mode": {
    "name": "ipython",
    "version": 2
   },
   "file_extension": ".py",
   "mimetype": "text/x-python",
   "name": "python",
   "nbconvert_exporter": "python",
   "pygments_lexer": "ipython2",
   "version": "2.7.8"
  }
 },
 "nbformat": 4,
 "nbformat_minor": 0
}
