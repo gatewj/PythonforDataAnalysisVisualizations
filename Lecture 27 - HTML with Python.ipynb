{
 "cells": [
  {
   "cell_type": "code",
   "execution_count": 1,
   "metadata": {
    "collapsed": true
   },
   "outputs": [],
   "source": [
    "import pandas as pd\n",
    "import numpy as np\n",
    "from pandas import Series, DataFrame"
   ]
  },
  {
   "cell_type": "code",
   "execution_count": 2,
   "metadata": {
    "collapsed": true
   },
   "outputs": [],
   "source": [
    "from pandas import read_html"
   ]
  },
  {
   "cell_type": "code",
   "execution_count": 3,
   "metadata": {
    "collapsed": true
   },
   "outputs": [],
   "source": [
    "#Lets grab a url for list of failed banks\n",
    "url = 'http://www.fdic.gov/bank/individual/failed/banklist.html'"
   ]
  },
  {
   "cell_type": "code",
   "execution_count": 4,
   "metadata": {
    "collapsed": true
   },
   "outputs": [],
   "source": [
    "# Grab data from html and put it intop a list of DataFrame objects!\n",
    "dframe_list = pd.io.html.read_html(url)"
   ]
  },
  {
   "cell_type": "code",
   "execution_count": 6,
   "metadata": {
    "collapsed": false
   },
   "outputs": [],
   "source": [
    "dframe = dframe_list[0]"
   ]
  },
  {
   "cell_type": "code",
   "execution_count": 8,
   "metadata": {
    "collapsed": false
   },
   "outputs": [
    {
     "data": {
      "text/html": [
       "<div style=\"max-height:1000px;max-width:1500px;overflow:auto;\">\n",
       "<table border=\"1\" class=\"dataframe\">\n",
       "  <thead>\n",
       "    <tr style=\"text-align: right;\">\n",
       "      <th></th>\n",
       "      <th>Bank Name</th>\n",
       "      <th>City</th>\n",
       "      <th>ST</th>\n",
       "      <th>CERT</th>\n",
       "      <th>Acquiring Institution</th>\n",
       "      <th>Closing Date</th>\n",
       "      <th>Updated Date</th>\n",
       "      <th>Loss Share Type</th>\n",
       "      <th>Agreement Terminated</th>\n",
       "      <th>Termination Date</th>\n",
       "    </tr>\n",
       "  </thead>\n",
       "  <tbody>\n",
       "    <tr>\n",
       "      <th>0</th>\n",
       "      <td>                      Premier Bank</td>\n",
       "      <td>   Denver</td>\n",
       "      <td> CO</td>\n",
       "      <td> 34112</td>\n",
       "      <td>           United Fidelity Bank, fsb</td>\n",
       "      <td>     July 10, 2015</td>\n",
       "      <td>  July 14, 2015</td>\n",
       "      <td>  NaN</td>\n",
       "      <td> NaN</td>\n",
       "      <td> NaN</td>\n",
       "    </tr>\n",
       "    <tr>\n",
       "      <th>1</th>\n",
       "      <td>                    Edgebrook Bank</td>\n",
       "      <td>  Chicago</td>\n",
       "      <td> IL</td>\n",
       "      <td> 57772</td>\n",
       "      <td>            Republic Bank of Chicago</td>\n",
       "      <td>       May 8, 2015</td>\n",
       "      <td>   May 19, 2015</td>\n",
       "      <td>  NaN</td>\n",
       "      <td> NaN</td>\n",
       "      <td> NaN</td>\n",
       "    </tr>\n",
       "    <tr>\n",
       "      <th>2</th>\n",
       "      <td>              Doral BankEn Espanol</td>\n",
       "      <td> San Juan</td>\n",
       "      <td> PR</td>\n",
       "      <td> 32102</td>\n",
       "      <td>        Banco Popular de Puerto Rico</td>\n",
       "      <td> February 27, 2015</td>\n",
       "      <td>   May 13, 2015</td>\n",
       "      <td>  NaN</td>\n",
       "      <td> NaN</td>\n",
       "      <td> NaN</td>\n",
       "    </tr>\n",
       "    <tr>\n",
       "      <th>3</th>\n",
       "      <td> Capitol City Bank &amp; Trust Company</td>\n",
       "      <td>  Atlanta</td>\n",
       "      <td> GA</td>\n",
       "      <td> 33938</td>\n",
       "      <td> First-Citizens Bank &amp; Trust Company</td>\n",
       "      <td> February 13, 2015</td>\n",
       "      <td> April 21, 2015</td>\n",
       "      <td> none</td>\n",
       "      <td> NaN</td>\n",
       "      <td> NaN</td>\n",
       "    </tr>\n",
       "    <tr>\n",
       "      <th>4</th>\n",
       "      <td>           Highland Community Bank</td>\n",
       "      <td>  Chicago</td>\n",
       "      <td> IL</td>\n",
       "      <td> 20290</td>\n",
       "      <td>           United Fidelity Bank, fsb</td>\n",
       "      <td>  January 23, 2015</td>\n",
       "      <td> April 21, 2015</td>\n",
       "      <td> none</td>\n",
       "      <td> NaN</td>\n",
       "      <td> NaN</td>\n",
       "    </tr>\n",
       "  </tbody>\n",
       "</table>\n",
       "</div>"
      ],
      "text/plain": [
       "                           Bank Name      City  ST   CERT  \\\n",
       "0                       Premier Bank    Denver  CO  34112   \n",
       "1                     Edgebrook Bank   Chicago  IL  57772   \n",
       "2               Doral BankEn Espanol  San Juan  PR  32102   \n",
       "3  Capitol City Bank & Trust Company   Atlanta  GA  33938   \n",
       "4            Highland Community Bank   Chicago  IL  20290   \n",
       "\n",
       "                 Acquiring Institution       Closing Date    Updated Date  \\\n",
       "0            United Fidelity Bank, fsb      July 10, 2015   July 14, 2015   \n",
       "1             Republic Bank of Chicago        May 8, 2015    May 19, 2015   \n",
       "2         Banco Popular de Puerto Rico  February 27, 2015    May 13, 2015   \n",
       "3  First-Citizens Bank & Trust Company  February 13, 2015  April 21, 2015   \n",
       "4            United Fidelity Bank, fsb   January 23, 2015  April 21, 2015   \n",
       "\n",
       "  Loss Share Type Agreement Terminated Termination Date  \n",
       "0             NaN                  NaN              NaN  \n",
       "1             NaN                  NaN              NaN  \n",
       "2             NaN                  NaN              NaN  \n",
       "3            none                  NaN              NaN  \n",
       "4            none                  NaN              NaN  "
      ]
     },
     "execution_count": 8,
     "metadata": {},
     "output_type": "execute_result"
    }
   ],
   "source": [
    "dframe.head()"
   ]
  },
  {
   "cell_type": "code",
   "execution_count": 9,
   "metadata": {
    "collapsed": false
   },
   "outputs": [
    {
     "data": {
      "text/plain": [
       "array([u'Bank Name', u'City', u'ST', u'CERT', u'Acquiring Institution',\n",
       "       u'Closing Date', u'Updated Date', u'Loss Share Type',\n",
       "       u'Agreement Terminated', u'Termination Date'], dtype=object)"
      ]
     },
     "execution_count": 9,
     "metadata": {},
     "output_type": "execute_result"
    }
   ],
   "source": [
    "dframe.columns.values"
   ]
  },
  {
   "cell_type": "code",
   "execution_count": 10,
   "metadata": {
    "collapsed": true
   },
   "outputs": [],
   "source": [
    "url2 = 'https://en.wikipedia.org/wiki/List_of_United_States_cities_by_area'"
   ]
  },
  {
   "cell_type": "code",
   "execution_count": 11,
   "metadata": {
    "collapsed": true
   },
   "outputs": [],
   "source": [
    "cities = pd.io.html.read_html(url2)"
   ]
  },
  {
   "cell_type": "code",
   "execution_count": 41,
   "metadata": {
    "collapsed": true
   },
   "outputs": [],
   "source": [
    "citiesdf = cities[7]"
   ]
  },
  {
   "cell_type": "code",
   "execution_count": 42,
   "metadata": {
    "collapsed": false
   },
   "outputs": [
    {
     "data": {
      "text/html": [
       "<div style=\"max-height:1000px;max-width:1500px;overflow:auto;\">\n",
       "<table border=\"1\" class=\"dataframe\">\n",
       "  <thead>\n",
       "    <tr style=\"text-align: right;\">\n",
       "      <th></th>\n",
       "      <th>0</th>\n",
       "    </tr>\n",
       "  </thead>\n",
       "  <tbody>\n",
       "    <tr>\n",
       "      <th>0</th>\n",
       "      <td> 1 - Sitka, Alaska</td>\n",
       "    </tr>\n",
       "  </tbody>\n",
       "</table>\n",
       "</div>"
      ],
      "text/plain": [
       "                   0\n",
       "0  1 - Sitka, Alaska"
      ]
     },
     "execution_count": 42,
     "metadata": {},
     "output_type": "execute_result"
    }
   ],
   "source": [
    "citiesdf"
   ]
  },
  {
   "cell_type": "code",
   "execution_count": null,
   "metadata": {
    "collapsed": false
   },
   "outputs": [],
   "source": []
  },
  {
   "cell_type": "code",
   "execution_count": null,
   "metadata": {
    "collapsed": true
   },
   "outputs": [],
   "source": []
  }
 ],
 "metadata": {
  "kernelspec": {
   "display_name": "Python 2",
   "language": "python",
   "name": "python2"
  },
  "language_info": {
   "codemirror_mode": {
    "name": "ipython",
    "version": 2
   },
   "file_extension": ".py",
   "mimetype": "text/x-python",
   "name": "python",
   "nbconvert_exporter": "python",
   "pygments_lexer": "ipython2",
   "version": "2.7.8"
  }
 },
 "nbformat": 4,
 "nbformat_minor": 0
}
